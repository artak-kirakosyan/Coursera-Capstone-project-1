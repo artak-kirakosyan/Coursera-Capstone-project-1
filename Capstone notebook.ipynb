{
    "cells": [
        {
            "cell_type": "markdown",
            "metadata": {
                "button": false,
                "new_sheet": false,
                "run_control": {
                    "read_only": false
                }
            },
            "source": "<a href=\"https://www.bigdatauniversity.com\"><img src=\"https://ibm.box.com/shared/static/cw2c7r3o20w9zn8gkecaeyjhgw3xdgbj.png\" width=\"400\" align=\"center\"></a>\n\n<h1 align=\"center\"><font size=\"5\">Classification with Python</font></h1>"
        },
        {
            "cell_type": "markdown",
            "metadata": {
                "button": false,
                "new_sheet": false,
                "run_control": {
                    "read_only": false
                }
            },
            "source": "In this notebook we try to practice all the classification algorithms that we learned in this course.\n\nWe load a dataset using Pandas library, and apply the following algorithms, and find the best one for this specific dataset by accuracy evaluation methods.\n\nLets first load required libraries:"
        },
        {
            "cell_type": "code",
            "execution_count": 354,
            "metadata": {
                "button": false,
                "new_sheet": false,
                "run_control": {
                    "read_only": false
                }
            },
            "outputs": [],
            "source": "import itertools\nimport numpy as np\nimport matplotlib.pyplot as plt\nfrom matplotlib.ticker import NullFormatter\nimport pandas as pd\nimport numpy as np\nimport matplotlib.ticker as ticker\nfrom sklearn import preprocessing\n%matplotlib inline"
        },
        {
            "cell_type": "markdown",
            "metadata": {
                "button": false,
                "new_sheet": false,
                "run_control": {
                    "read_only": false
                }
            },
            "source": "### About dataset"
        },
        {
            "cell_type": "markdown",
            "metadata": {
                "button": false,
                "new_sheet": false,
                "run_control": {
                    "read_only": false
                }
            },
            "source": "This dataset is about past loans. The __Loan_train.csv__ data set includes details of 346 customers whose loan are already paid off or defaulted. It includes following fields:\n\n| Field          | Description                                                                           |\n|----------------|---------------------------------------------------------------------------------------|\n| Loan_status    | Whether a loan is paid off on in collection                                           |\n| Principal      | Basic principal loan amount at the                                                    |\n| Terms          | Origination terms which can be weekly (7 days), biweekly, and monthly payoff schedule |\n| Effective_date | When the loan got originated and took effects                                         |\n| Due_date       | Since it\u2019s one-time payoff schedule, each loan has one single due date                |\n| Age            | Age of applicant                                                                      |\n| Education      | Education of applicant                                                                |\n| Gender         | The gender of applicant                                                               |"
        },
        {
            "cell_type": "markdown",
            "metadata": {
                "button": false,
                "new_sheet": false,
                "run_control": {
                    "read_only": false
                }
            },
            "source": "Lets download the dataset"
        },
        {
            "cell_type": "code",
            "execution_count": 355,
            "metadata": {
                "button": false,
                "new_sheet": false,
                "run_control": {
                    "read_only": false
                }
            },
            "outputs": [
                {
                    "name": "stdout",
                    "output_type": "stream",
                    "text": "--2020-06-15 19:31:17--  https://s3-api.us-geo.objectstorage.softlayer.net/cf-courses-data/CognitiveClass/ML0101ENv3/labs/loan_train.csv\nResolving s3-api.us-geo.objectstorage.softlayer.net (s3-api.us-geo.objectstorage.softlayer.net)... 67.228.254.196\nConnecting to s3-api.us-geo.objectstorage.softlayer.net (s3-api.us-geo.objectstorage.softlayer.net)|67.228.254.196|:443... connected.\nHTTP request sent, awaiting response... 200 OK\nLength: 23101 (23K) [text/csv]\nSaving to: \u2018loan_train.csv\u2019\n\n100%[======================================>] 23,101      --.-K/s   in 0.002s  \n\n2020-06-15 19:31:17 (11.5 MB/s) - \u2018loan_train.csv\u2019 saved [23101/23101]\n\n"
                }
            ],
            "source": "!wget -O loan_train.csv https://s3-api.us-geo.objectstorage.softlayer.net/cf-courses-data/CognitiveClass/ML0101ENv3/labs/loan_train.csv"
        },
        {
            "cell_type": "markdown",
            "metadata": {
                "button": false,
                "new_sheet": false,
                "run_control": {
                    "read_only": false
                }
            },
            "source": "### Load Data From CSV File  "
        },
        {
            "cell_type": "code",
            "execution_count": 356,
            "metadata": {
                "button": false,
                "new_sheet": false,
                "run_control": {
                    "read_only": false
                }
            },
            "outputs": [
                {
                    "data": {
                        "text/html": "<div>\n<style scoped>\n    .dataframe tbody tr th:only-of-type {\n        vertical-align: middle;\n    }\n\n    .dataframe tbody tr th {\n        vertical-align: top;\n    }\n\n    .dataframe thead th {\n        text-align: right;\n    }\n</style>\n<table border=\"1\" class=\"dataframe\">\n  <thead>\n    <tr style=\"text-align: right;\">\n      <th></th>\n      <th>Unnamed: 0</th>\n      <th>Unnamed: 0.1</th>\n      <th>loan_status</th>\n      <th>Principal</th>\n      <th>terms</th>\n      <th>effective_date</th>\n      <th>due_date</th>\n      <th>age</th>\n      <th>education</th>\n      <th>Gender</th>\n    </tr>\n  </thead>\n  <tbody>\n    <tr>\n      <th>count</th>\n      <td>346.000000</td>\n      <td>346.000000</td>\n      <td>346</td>\n      <td>346.000000</td>\n      <td>346.000000</td>\n      <td>346</td>\n      <td>346</td>\n      <td>346.000000</td>\n      <td>346</td>\n      <td>346</td>\n    </tr>\n    <tr>\n      <th>unique</th>\n      <td>NaN</td>\n      <td>NaN</td>\n      <td>2</td>\n      <td>NaN</td>\n      <td>NaN</td>\n      <td>7</td>\n      <td>23</td>\n      <td>NaN</td>\n      <td>4</td>\n      <td>2</td>\n    </tr>\n    <tr>\n      <th>top</th>\n      <td>NaN</td>\n      <td>NaN</td>\n      <td>PAIDOFF</td>\n      <td>NaN</td>\n      <td>NaN</td>\n      <td>9/11/2016</td>\n      <td>10/10/2016</td>\n      <td>NaN</td>\n      <td>High School or Below</td>\n      <td>male</td>\n    </tr>\n    <tr>\n      <th>freq</th>\n      <td>NaN</td>\n      <td>NaN</td>\n      <td>260</td>\n      <td>NaN</td>\n      <td>NaN</td>\n      <td>166</td>\n      <td>90</td>\n      <td>NaN</td>\n      <td>151</td>\n      <td>294</td>\n    </tr>\n    <tr>\n      <th>mean</th>\n      <td>202.167630</td>\n      <td>202.167630</td>\n      <td>NaN</td>\n      <td>943.641618</td>\n      <td>22.653179</td>\n      <td>NaN</td>\n      <td>NaN</td>\n      <td>30.939306</td>\n      <td>NaN</td>\n      <td>NaN</td>\n    </tr>\n    <tr>\n      <th>std</th>\n      <td>115.459715</td>\n      <td>115.459715</td>\n      <td>NaN</td>\n      <td>109.425530</td>\n      <td>7.991006</td>\n      <td>NaN</td>\n      <td>NaN</td>\n      <td>6.039418</td>\n      <td>NaN</td>\n      <td>NaN</td>\n    </tr>\n    <tr>\n      <th>min</th>\n      <td>0.000000</td>\n      <td>0.000000</td>\n      <td>NaN</td>\n      <td>300.000000</td>\n      <td>7.000000</td>\n      <td>NaN</td>\n      <td>NaN</td>\n      <td>18.000000</td>\n      <td>NaN</td>\n      <td>NaN</td>\n    </tr>\n    <tr>\n      <th>25%</th>\n      <td>107.250000</td>\n      <td>107.250000</td>\n      <td>NaN</td>\n      <td>900.000000</td>\n      <td>15.000000</td>\n      <td>NaN</td>\n      <td>NaN</td>\n      <td>27.000000</td>\n      <td>NaN</td>\n      <td>NaN</td>\n    </tr>\n    <tr>\n      <th>50%</th>\n      <td>204.500000</td>\n      <td>204.500000</td>\n      <td>NaN</td>\n      <td>1000.000000</td>\n      <td>30.000000</td>\n      <td>NaN</td>\n      <td>NaN</td>\n      <td>30.000000</td>\n      <td>NaN</td>\n      <td>NaN</td>\n    </tr>\n    <tr>\n      <th>75%</th>\n      <td>298.750000</td>\n      <td>298.750000</td>\n      <td>NaN</td>\n      <td>1000.000000</td>\n      <td>30.000000</td>\n      <td>NaN</td>\n      <td>NaN</td>\n      <td>35.000000</td>\n      <td>NaN</td>\n      <td>NaN</td>\n    </tr>\n    <tr>\n      <th>max</th>\n      <td>399.000000</td>\n      <td>399.000000</td>\n      <td>NaN</td>\n      <td>1000.000000</td>\n      <td>30.000000</td>\n      <td>NaN</td>\n      <td>NaN</td>\n      <td>51.000000</td>\n      <td>NaN</td>\n      <td>NaN</td>\n    </tr>\n  </tbody>\n</table>\n</div>",
                        "text/plain": "        Unnamed: 0  Unnamed: 0.1 loan_status    Principal       terms  \\\ncount   346.000000    346.000000         346   346.000000  346.000000   \nunique         NaN           NaN           2          NaN         NaN   \ntop            NaN           NaN     PAIDOFF          NaN         NaN   \nfreq           NaN           NaN         260          NaN         NaN   \nmean    202.167630    202.167630         NaN   943.641618   22.653179   \nstd     115.459715    115.459715         NaN   109.425530    7.991006   \nmin       0.000000      0.000000         NaN   300.000000    7.000000   \n25%     107.250000    107.250000         NaN   900.000000   15.000000   \n50%     204.500000    204.500000         NaN  1000.000000   30.000000   \n75%     298.750000    298.750000         NaN  1000.000000   30.000000   \nmax     399.000000    399.000000         NaN  1000.000000   30.000000   \n\n       effective_date    due_date         age             education Gender  \ncount             346         346  346.000000                   346    346  \nunique              7          23         NaN                     4      2  \ntop         9/11/2016  10/10/2016         NaN  High School or Below   male  \nfreq              166          90         NaN                   151    294  \nmean              NaN         NaN   30.939306                   NaN    NaN  \nstd               NaN         NaN    6.039418                   NaN    NaN  \nmin               NaN         NaN   18.000000                   NaN    NaN  \n25%               NaN         NaN   27.000000                   NaN    NaN  \n50%               NaN         NaN   30.000000                   NaN    NaN  \n75%               NaN         NaN   35.000000                   NaN    NaN  \nmax               NaN         NaN   51.000000                   NaN    NaN  "
                    },
                    "execution_count": 356,
                    "metadata": {},
                    "output_type": "execute_result"
                }
            ],
            "source": "df = pd.read_csv('loan_train.csv')\ndf_untouched = df.copy()\ndf.describe(include='all')"
        },
        {
            "cell_type": "code",
            "execution_count": 357,
            "metadata": {},
            "outputs": [
                {
                    "data": {
                        "text/html": "<div>\n<style scoped>\n    .dataframe tbody tr th:only-of-type {\n        vertical-align: middle;\n    }\n\n    .dataframe tbody tr th {\n        vertical-align: top;\n    }\n\n    .dataframe thead th {\n        text-align: right;\n    }\n</style>\n<table border=\"1\" class=\"dataframe\">\n  <thead>\n    <tr style=\"text-align: right;\">\n      <th></th>\n      <th>Unnamed: 0</th>\n      <th>Unnamed: 0.1</th>\n      <th>loan_status</th>\n      <th>Principal</th>\n      <th>terms</th>\n      <th>effective_date</th>\n      <th>due_date</th>\n      <th>age</th>\n      <th>education</th>\n      <th>Gender</th>\n    </tr>\n  </thead>\n  <tbody>\n    <tr>\n      <th>0</th>\n      <td>0</td>\n      <td>0</td>\n      <td>PAIDOFF</td>\n      <td>1000</td>\n      <td>30</td>\n      <td>9/8/2016</td>\n      <td>10/7/2016</td>\n      <td>45</td>\n      <td>High School or Below</td>\n      <td>male</td>\n    </tr>\n    <tr>\n      <th>1</th>\n      <td>2</td>\n      <td>2</td>\n      <td>PAIDOFF</td>\n      <td>1000</td>\n      <td>30</td>\n      <td>9/8/2016</td>\n      <td>10/7/2016</td>\n      <td>33</td>\n      <td>Bechalor</td>\n      <td>female</td>\n    </tr>\n    <tr>\n      <th>2</th>\n      <td>3</td>\n      <td>3</td>\n      <td>PAIDOFF</td>\n      <td>1000</td>\n      <td>15</td>\n      <td>9/8/2016</td>\n      <td>9/22/2016</td>\n      <td>27</td>\n      <td>college</td>\n      <td>male</td>\n    </tr>\n    <tr>\n      <th>3</th>\n      <td>4</td>\n      <td>4</td>\n      <td>PAIDOFF</td>\n      <td>1000</td>\n      <td>30</td>\n      <td>9/9/2016</td>\n      <td>10/8/2016</td>\n      <td>28</td>\n      <td>college</td>\n      <td>female</td>\n    </tr>\n    <tr>\n      <th>4</th>\n      <td>6</td>\n      <td>6</td>\n      <td>PAIDOFF</td>\n      <td>1000</td>\n      <td>30</td>\n      <td>9/9/2016</td>\n      <td>10/8/2016</td>\n      <td>29</td>\n      <td>college</td>\n      <td>male</td>\n    </tr>\n  </tbody>\n</table>\n</div>",
                        "text/plain": "   Unnamed: 0  Unnamed: 0.1 loan_status  Principal  terms effective_date  \\\n0           0             0     PAIDOFF       1000     30       9/8/2016   \n1           2             2     PAIDOFF       1000     30       9/8/2016   \n2           3             3     PAIDOFF       1000     15       9/8/2016   \n3           4             4     PAIDOFF       1000     30       9/9/2016   \n4           6             6     PAIDOFF       1000     30       9/9/2016   \n\n    due_date  age             education  Gender  \n0  10/7/2016   45  High School or Below    male  \n1  10/7/2016   33              Bechalor  female  \n2  9/22/2016   27               college    male  \n3  10/8/2016   28               college  female  \n4  10/8/2016   29               college    male  "
                    },
                    "execution_count": 357,
                    "metadata": {},
                    "output_type": "execute_result"
                }
            ],
            "source": "df.head()"
        },
        {
            "cell_type": "code",
            "execution_count": 358,
            "metadata": {},
            "outputs": [
                {
                    "data": {
                        "text/plain": "(346, 10)"
                    },
                    "execution_count": 358,
                    "metadata": {},
                    "output_type": "execute_result"
                }
            ],
            "source": "df.shape"
        },
        {
            "cell_type": "markdown",
            "metadata": {
                "button": false,
                "new_sheet": false,
                "run_control": {
                    "read_only": false
                }
            },
            "source": "### Convert to date time object "
        },
        {
            "cell_type": "code",
            "execution_count": 359,
            "metadata": {
                "button": false,
                "new_sheet": false,
                "run_control": {
                    "read_only": false
                }
            },
            "outputs": [
                {
                    "data": {
                        "text/html": "<div>\n<style scoped>\n    .dataframe tbody tr th:only-of-type {\n        vertical-align: middle;\n    }\n\n    .dataframe tbody tr th {\n        vertical-align: top;\n    }\n\n    .dataframe thead th {\n        text-align: right;\n    }\n</style>\n<table border=\"1\" class=\"dataframe\">\n  <thead>\n    <tr style=\"text-align: right;\">\n      <th></th>\n      <th>Unnamed: 0</th>\n      <th>Unnamed: 0.1</th>\n      <th>loan_status</th>\n      <th>Principal</th>\n      <th>terms</th>\n      <th>effective_date</th>\n      <th>due_date</th>\n      <th>age</th>\n      <th>education</th>\n      <th>Gender</th>\n    </tr>\n  </thead>\n  <tbody>\n    <tr>\n      <th>count</th>\n      <td>346.000000</td>\n      <td>346.000000</td>\n      <td>346</td>\n      <td>346.000000</td>\n      <td>346.000000</td>\n      <td>346</td>\n      <td>346</td>\n      <td>346.000000</td>\n      <td>346</td>\n      <td>346</td>\n    </tr>\n    <tr>\n      <th>unique</th>\n      <td>NaN</td>\n      <td>NaN</td>\n      <td>2</td>\n      <td>NaN</td>\n      <td>NaN</td>\n      <td>7</td>\n      <td>23</td>\n      <td>NaN</td>\n      <td>4</td>\n      <td>2</td>\n    </tr>\n    <tr>\n      <th>top</th>\n      <td>NaN</td>\n      <td>NaN</td>\n      <td>PAIDOFF</td>\n      <td>NaN</td>\n      <td>NaN</td>\n      <td>2016-09-11 00:00:00</td>\n      <td>2016-10-10 00:00:00</td>\n      <td>NaN</td>\n      <td>High School or Below</td>\n      <td>male</td>\n    </tr>\n    <tr>\n      <th>freq</th>\n      <td>NaN</td>\n      <td>NaN</td>\n      <td>260</td>\n      <td>NaN</td>\n      <td>NaN</td>\n      <td>166</td>\n      <td>90</td>\n      <td>NaN</td>\n      <td>151</td>\n      <td>294</td>\n    </tr>\n    <tr>\n      <th>first</th>\n      <td>NaN</td>\n      <td>NaN</td>\n      <td>NaN</td>\n      <td>NaN</td>\n      <td>NaN</td>\n      <td>2016-09-08 00:00:00</td>\n      <td>2016-09-16 00:00:00</td>\n      <td>NaN</td>\n      <td>NaN</td>\n      <td>NaN</td>\n    </tr>\n    <tr>\n      <th>last</th>\n      <td>NaN</td>\n      <td>NaN</td>\n      <td>NaN</td>\n      <td>NaN</td>\n      <td>NaN</td>\n      <td>2016-09-14 00:00:00</td>\n      <td>2016-11-12 00:00:00</td>\n      <td>NaN</td>\n      <td>NaN</td>\n      <td>NaN</td>\n    </tr>\n    <tr>\n      <th>mean</th>\n      <td>202.167630</td>\n      <td>202.167630</td>\n      <td>NaN</td>\n      <td>943.641618</td>\n      <td>22.653179</td>\n      <td>NaN</td>\n      <td>NaN</td>\n      <td>30.939306</td>\n      <td>NaN</td>\n      <td>NaN</td>\n    </tr>\n    <tr>\n      <th>std</th>\n      <td>115.459715</td>\n      <td>115.459715</td>\n      <td>NaN</td>\n      <td>109.425530</td>\n      <td>7.991006</td>\n      <td>NaN</td>\n      <td>NaN</td>\n      <td>6.039418</td>\n      <td>NaN</td>\n      <td>NaN</td>\n    </tr>\n    <tr>\n      <th>min</th>\n      <td>0.000000</td>\n      <td>0.000000</td>\n      <td>NaN</td>\n      <td>300.000000</td>\n      <td>7.000000</td>\n      <td>NaN</td>\n      <td>NaN</td>\n      <td>18.000000</td>\n      <td>NaN</td>\n      <td>NaN</td>\n    </tr>\n    <tr>\n      <th>25%</th>\n      <td>107.250000</td>\n      <td>107.250000</td>\n      <td>NaN</td>\n      <td>900.000000</td>\n      <td>15.000000</td>\n      <td>NaN</td>\n      <td>NaN</td>\n      <td>27.000000</td>\n      <td>NaN</td>\n      <td>NaN</td>\n    </tr>\n    <tr>\n      <th>50%</th>\n      <td>204.500000</td>\n      <td>204.500000</td>\n      <td>NaN</td>\n      <td>1000.000000</td>\n      <td>30.000000</td>\n      <td>NaN</td>\n      <td>NaN</td>\n      <td>30.000000</td>\n      <td>NaN</td>\n      <td>NaN</td>\n    </tr>\n    <tr>\n      <th>75%</th>\n      <td>298.750000</td>\n      <td>298.750000</td>\n      <td>NaN</td>\n      <td>1000.000000</td>\n      <td>30.000000</td>\n      <td>NaN</td>\n      <td>NaN</td>\n      <td>35.000000</td>\n      <td>NaN</td>\n      <td>NaN</td>\n    </tr>\n    <tr>\n      <th>max</th>\n      <td>399.000000</td>\n      <td>399.000000</td>\n      <td>NaN</td>\n      <td>1000.000000</td>\n      <td>30.000000</td>\n      <td>NaN</td>\n      <td>NaN</td>\n      <td>51.000000</td>\n      <td>NaN</td>\n      <td>NaN</td>\n    </tr>\n  </tbody>\n</table>\n</div>",
                        "text/plain": "        Unnamed: 0  Unnamed: 0.1 loan_status    Principal       terms  \\\ncount   346.000000    346.000000         346   346.000000  346.000000   \nunique         NaN           NaN           2          NaN         NaN   \ntop            NaN           NaN     PAIDOFF          NaN         NaN   \nfreq           NaN           NaN         260          NaN         NaN   \nfirst          NaN           NaN         NaN          NaN         NaN   \nlast           NaN           NaN         NaN          NaN         NaN   \nmean    202.167630    202.167630         NaN   943.641618   22.653179   \nstd     115.459715    115.459715         NaN   109.425530    7.991006   \nmin       0.000000      0.000000         NaN   300.000000    7.000000   \n25%     107.250000    107.250000         NaN   900.000000   15.000000   \n50%     204.500000    204.500000         NaN  1000.000000   30.000000   \n75%     298.750000    298.750000         NaN  1000.000000   30.000000   \nmax     399.000000    399.000000         NaN  1000.000000   30.000000   \n\n             effective_date             due_date         age  \\\ncount                   346                  346  346.000000   \nunique                    7                   23         NaN   \ntop     2016-09-11 00:00:00  2016-10-10 00:00:00         NaN   \nfreq                    166                   90         NaN   \nfirst   2016-09-08 00:00:00  2016-09-16 00:00:00         NaN   \nlast    2016-09-14 00:00:00  2016-11-12 00:00:00         NaN   \nmean                    NaN                  NaN   30.939306   \nstd                     NaN                  NaN    6.039418   \nmin                     NaN                  NaN   18.000000   \n25%                     NaN                  NaN   27.000000   \n50%                     NaN                  NaN   30.000000   \n75%                     NaN                  NaN   35.000000   \nmax                     NaN                  NaN   51.000000   \n\n                   education Gender  \ncount                    346    346  \nunique                     4      2  \ntop     High School or Below   male  \nfreq                     151    294  \nfirst                    NaN    NaN  \nlast                     NaN    NaN  \nmean                     NaN    NaN  \nstd                      NaN    NaN  \nmin                      NaN    NaN  \n25%                      NaN    NaN  \n50%                      NaN    NaN  \n75%                      NaN    NaN  \nmax                      NaN    NaN  "
                    },
                    "execution_count": 359,
                    "metadata": {},
                    "output_type": "execute_result"
                }
            ],
            "source": "df['due_date'] = pd.to_datetime(df['due_date'])\ndf['effective_date'] = pd.to_datetime(df['effective_date'])\ndf.describe(include='all')"
        },
        {
            "cell_type": "markdown",
            "metadata": {
                "button": false,
                "new_sheet": false,
                "run_control": {
                    "read_only": false
                }
            },
            "source": "# Data visualization and pre-processing\n\n"
        },
        {
            "cell_type": "markdown",
            "metadata": {
                "button": false,
                "new_sheet": false,
                "run_control": {
                    "read_only": false
                }
            },
            "source": "Let\u2019s see how many of each class is in our data set "
        },
        {
            "cell_type": "code",
            "execution_count": 360,
            "metadata": {
                "button": false,
                "new_sheet": false,
                "run_control": {
                    "read_only": false
                }
            },
            "outputs": [
                {
                    "data": {
                        "text/plain": "PAIDOFF       260\nCOLLECTION     86\nName: loan_status, dtype: int64"
                    },
                    "execution_count": 360,
                    "metadata": {},
                    "output_type": "execute_result"
                }
            ],
            "source": "df['loan_status'].value_counts()"
        },
        {
            "cell_type": "markdown",
            "metadata": {
                "button": false,
                "new_sheet": false,
                "run_control": {
                    "read_only": false
                }
            },
            "source": "260 people have paid off the loan on time while 86 have gone into collection \n"
        },
        {
            "cell_type": "markdown",
            "metadata": {},
            "source": "Lets plot some columns to underestand data better:"
        },
        {
            "cell_type": "code",
            "execution_count": 361,
            "metadata": {},
            "outputs": [
                {
                    "name": "stdout",
                    "output_type": "stream",
                    "text": "Solving environment: done\n\n# All requested packages already installed.\n\n"
                }
            ],
            "source": "# notice: installing seaborn might takes a few minutes\n!conda install -c anaconda seaborn -y"
        },
        {
            "cell_type": "code",
            "execution_count": 362,
            "metadata": {},
            "outputs": [
                {
                    "data": {
                        "image/png": "[encoded data removed]",
                        "text/plain": "<Figure size 432x216 with 2 Axes>"
                    },
                    "metadata": {
                        "needs_background": "light"
                    },
                    "output_type": "display_data"
                }
            ],
            "source": "import seaborn as sns\n\nbins = np.linspace(df.Principal.min(), df.Principal.max(), 10)\ng = sns.FacetGrid(df, col=\"Gender\", hue=\"loan_status\", palette=\"Set1\", col_wrap=2)\ng.map(plt.hist, 'Principal', bins=bins, ec=\"k\")\n\ng.axes[-1].legend()\nplt.show()"
        },
        {
            "cell_type": "code",
            "execution_count": 363,
            "metadata": {
                "button": false,
                "new_sheet": false,
                "run_control": {
                    "read_only": false
                }
            },
            "outputs": [
                {
                    "data": {
                        "image/png": "[encoded data removed]",
                        "text/plain": "<Figure size 432x216 with 2 Axes>"
                    },
                    "metadata": {
                        "needs_background": "light"
                    },
                    "output_type": "display_data"
                }
            ],
            "source": "bins = np.linspace(df.age.min(), df.age.max(), 10)\ng = sns.FacetGrid(df, col=\"Gender\", hue=\"loan_status\", palette=\"Set1\", col_wrap=2)\ng.map(plt.hist, 'age', bins=bins, ec=\"k\")\n\ng.axes[-1].legend()\nplt.show()"
        },
        {
            "cell_type": "markdown",
            "metadata": {
                "button": false,
                "new_sheet": false,
                "run_control": {
                    "read_only": false
                }
            },
            "source": "# Pre-processing:  Feature selection/extraction"
        },
        {
            "cell_type": "markdown",
            "metadata": {
                "button": false,
                "new_sheet": false,
                "run_control": {
                    "read_only": false
                }
            },
            "source": "### Lets look at the day of the week people get the loan "
        },
        {
            "cell_type": "code",
            "execution_count": 364,
            "metadata": {
                "button": false,
                "new_sheet": false,
                "run_control": {
                    "read_only": false
                }
            },
            "outputs": [
                {
                    "data": {
                        "image/png": "[encoded data removed]",
                        "text/plain": "<Figure size 432x216 with 2 Axes>"
                    },
                    "metadata": {
                        "needs_background": "light"
                    },
                    "output_type": "display_data"
                }
            ],
            "source": "df['dayofweek'] = df['effective_date'].dt.dayofweek\nbins = np.linspace(df.dayofweek.min(), df.dayofweek.max(), 10)\ng = sns.FacetGrid(df, col=\"Gender\", hue=\"loan_status\", palette=\"Set1\", col_wrap=2)\ng.map(plt.hist, 'dayofweek', bins=bins, ec=\"k\")\ng.axes[-1].legend()\nplt.show()"
        },
        {
            "cell_type": "code",
            "execution_count": 365,
            "metadata": {},
            "outputs": [
                {
                    "data": {
                        "image/png": "[encoded data removed]",
                        "text/plain": "<Figure size 432x216 with 2 Axes>"
                    },
                    "metadata": {
                        "needs_background": "light"
                    },
                    "output_type": "display_data"
                }
            ],
            "source": "df['dayofweekdue'] = df['due_date'].dt.dayofweek\nbins = np.linspace(df.dayofweek.min(), df.dayofweek.max(), 10)\ng = sns.FacetGrid(df, col=\"Gender\", hue=\"loan_status\", palette=\"Set1\", col_wrap=2)\ng.map(plt.hist, 'dayofweekdue', bins=bins, ec=\"k\")\ng.axes[-1].legend()\nplt.show()\n"
        },
        {
            "cell_type": "markdown",
            "metadata": {
                "button": false,
                "new_sheet": false,
                "run_control": {
                    "read_only": false
                }
            },
            "source": "We see that people who get the loan at the end of the week dont pay it off, so lets use Feature binarization to set a threshold values less then day 4 "
        },
        {
            "cell_type": "code",
            "execution_count": 366,
            "metadata": {
                "button": false,
                "new_sheet": false,
                "run_control": {
                    "read_only": false
                }
            },
            "outputs": [
                {
                    "data": {
                        "text/html": "<div>\n<style scoped>\n    .dataframe tbody tr th:only-of-type {\n        vertical-align: middle;\n    }\n\n    .dataframe tbody tr th {\n        vertical-align: top;\n    }\n\n    .dataframe thead th {\n        text-align: right;\n    }\n</style>\n<table border=\"1\" class=\"dataframe\">\n  <thead>\n    <tr style=\"text-align: right;\">\n      <th></th>\n      <th>Unnamed: 0</th>\n      <th>Unnamed: 0.1</th>\n      <th>loan_status</th>\n      <th>Principal</th>\n      <th>terms</th>\n      <th>effective_date</th>\n      <th>due_date</th>\n      <th>age</th>\n      <th>education</th>\n      <th>Gender</th>\n      <th>dayofweek</th>\n      <th>dayofweekdue</th>\n      <th>weekend</th>\n      <th>weekenddue</th>\n    </tr>\n  </thead>\n  <tbody>\n    <tr>\n      <th>0</th>\n      <td>0</td>\n      <td>0</td>\n      <td>PAIDOFF</td>\n      <td>1000</td>\n      <td>30</td>\n      <td>2016-09-08</td>\n      <td>2016-10-07</td>\n      <td>45</td>\n      <td>High School or Below</td>\n      <td>male</td>\n      <td>3</td>\n      <td>4</td>\n      <td>0</td>\n      <td>1</td>\n    </tr>\n    <tr>\n      <th>1</th>\n      <td>2</td>\n      <td>2</td>\n      <td>PAIDOFF</td>\n      <td>1000</td>\n      <td>30</td>\n      <td>2016-09-08</td>\n      <td>2016-10-07</td>\n      <td>33</td>\n      <td>Bechalor</td>\n      <td>female</td>\n      <td>3</td>\n      <td>4</td>\n      <td>0</td>\n      <td>1</td>\n    </tr>\n    <tr>\n      <th>2</th>\n      <td>3</td>\n      <td>3</td>\n      <td>PAIDOFF</td>\n      <td>1000</td>\n      <td>15</td>\n      <td>2016-09-08</td>\n      <td>2016-09-22</td>\n      <td>27</td>\n      <td>college</td>\n      <td>male</td>\n      <td>3</td>\n      <td>3</td>\n      <td>0</td>\n      <td>0</td>\n    </tr>\n    <tr>\n      <th>3</th>\n      <td>4</td>\n      <td>4</td>\n      <td>PAIDOFF</td>\n      <td>1000</td>\n      <td>30</td>\n      <td>2016-09-09</td>\n      <td>2016-10-08</td>\n      <td>28</td>\n      <td>college</td>\n      <td>female</td>\n      <td>4</td>\n      <td>5</td>\n      <td>1</td>\n      <td>1</td>\n    </tr>\n    <tr>\n      <th>4</th>\n      <td>6</td>\n      <td>6</td>\n      <td>PAIDOFF</td>\n      <td>1000</td>\n      <td>30</td>\n      <td>2016-09-09</td>\n      <td>2016-10-08</td>\n      <td>29</td>\n      <td>college</td>\n      <td>male</td>\n      <td>4</td>\n      <td>5</td>\n      <td>1</td>\n      <td>1</td>\n    </tr>\n  </tbody>\n</table>\n</div>",
                        "text/plain": "   Unnamed: 0  Unnamed: 0.1 loan_status  Principal  terms effective_date  \\\n0           0             0     PAIDOFF       1000     30     2016-09-08   \n1           2             2     PAIDOFF       1000     30     2016-09-08   \n2           3             3     PAIDOFF       1000     15     2016-09-08   \n3           4             4     PAIDOFF       1000     30     2016-09-09   \n4           6             6     PAIDOFF       1000     30     2016-09-09   \n\n    due_date  age             education  Gender  dayofweek  dayofweekdue  \\\n0 2016-10-07   45  High School or Below    male          3             4   \n1 2016-10-07   33              Bechalor  female          3             4   \n2 2016-09-22   27               college    male          3             3   \n3 2016-10-08   28               college  female          4             5   \n4 2016-10-08   29               college    male          4             5   \n\n   weekend  weekenddue  \n0        0           1  \n1        0           1  \n2        0           0  \n3        1           1  \n4        1           1  "
                    },
                    "execution_count": 366,
                    "metadata": {},
                    "output_type": "execute_result"
                }
            ],
            "source": "df['weekend'] = df['dayofweek'].apply(lambda x: 1 if (x>3)  else 0)\ndf['weekenddue'] = df['dayofweekdue'].apply(lambda x: 1 if (x>3)  else 0)\ndf.head()"
        },
        {
            "cell_type": "markdown",
            "metadata": {
                "button": false,
                "new_sheet": false,
                "run_control": {
                    "read_only": false
                }
            },
            "source": "## Convert Categorical features to numerical values"
        },
        {
            "cell_type": "markdown",
            "metadata": {
                "button": false,
                "new_sheet": false,
                "run_control": {
                    "read_only": false
                }
            },
            "source": "Lets look at gender:"
        },
        {
            "cell_type": "code",
            "execution_count": 367,
            "metadata": {
                "button": false,
                "new_sheet": false,
                "run_control": {
                    "read_only": false
                }
            },
            "outputs": [
                {
                    "data": {
                        "text/plain": "Gender  loan_status\nfemale  PAIDOFF        0.865385\n        COLLECTION     0.134615\nmale    PAIDOFF        0.731293\n        COLLECTION     0.268707\nName: loan_status, dtype: float64"
                    },
                    "execution_count": 367,
                    "metadata": {},
                    "output_type": "execute_result"
                }
            ],
            "source": "df.groupby(['Gender'])['loan_status'].value_counts(normalize=True)"
        },
        {
            "cell_type": "markdown",
            "metadata": {
                "button": false,
                "new_sheet": false,
                "run_control": {
                    "read_only": false
                }
            },
            "source": "86 % of female pay there loans while only 73 % of males pay there loan\n"
        },
        {
            "cell_type": "markdown",
            "metadata": {
                "button": false,
                "new_sheet": false,
                "run_control": {
                    "read_only": false
                }
            },
            "source": "Lets convert male to 0 and female to 1:\n"
        },
        {
            "cell_type": "code",
            "execution_count": 368,
            "metadata": {
                "button": false,
                "new_sheet": false,
                "run_control": {
                    "read_only": false
                }
            },
            "outputs": [
                {
                    "data": {
                        "text/html": "<div>\n<style scoped>\n    .dataframe tbody tr th:only-of-type {\n        vertical-align: middle;\n    }\n\n    .dataframe tbody tr th {\n        vertical-align: top;\n    }\n\n    .dataframe thead th {\n        text-align: right;\n    }\n</style>\n<table border=\"1\" class=\"dataframe\">\n  <thead>\n    <tr style=\"text-align: right;\">\n      <th></th>\n      <th>Unnamed: 0</th>\n      <th>Unnamed: 0.1</th>\n      <th>loan_status</th>\n      <th>Principal</th>\n      <th>terms</th>\n      <th>effective_date</th>\n      <th>due_date</th>\n      <th>age</th>\n      <th>education</th>\n      <th>Gender</th>\n      <th>dayofweek</th>\n      <th>dayofweekdue</th>\n      <th>weekend</th>\n      <th>weekenddue</th>\n    </tr>\n  </thead>\n  <tbody>\n    <tr>\n      <th>0</th>\n      <td>0</td>\n      <td>0</td>\n      <td>PAIDOFF</td>\n      <td>1000</td>\n      <td>30</td>\n      <td>2016-09-08</td>\n      <td>2016-10-07</td>\n      <td>45</td>\n      <td>High School or Below</td>\n      <td>0</td>\n      <td>3</td>\n      <td>4</td>\n      <td>0</td>\n      <td>1</td>\n    </tr>\n    <tr>\n      <th>1</th>\n      <td>2</td>\n      <td>2</td>\n      <td>PAIDOFF</td>\n      <td>1000</td>\n      <td>30</td>\n      <td>2016-09-08</td>\n      <td>2016-10-07</td>\n      <td>33</td>\n      <td>Bechalor</td>\n      <td>1</td>\n      <td>3</td>\n      <td>4</td>\n      <td>0</td>\n      <td>1</td>\n    </tr>\n    <tr>\n      <th>2</th>\n      <td>3</td>\n      <td>3</td>\n      <td>PAIDOFF</td>\n      <td>1000</td>\n      <td>15</td>\n      <td>2016-09-08</td>\n      <td>2016-09-22</td>\n      <td>27</td>\n      <td>college</td>\n      <td>0</td>\n      <td>3</td>\n      <td>3</td>\n      <td>0</td>\n      <td>0</td>\n    </tr>\n    <tr>\n      <th>3</th>\n      <td>4</td>\n      <td>4</td>\n      <td>PAIDOFF</td>\n      <td>1000</td>\n      <td>30</td>\n      <td>2016-09-09</td>\n      <td>2016-10-08</td>\n      <td>28</td>\n      <td>college</td>\n      <td>1</td>\n      <td>4</td>\n      <td>5</td>\n      <td>1</td>\n      <td>1</td>\n    </tr>\n    <tr>\n      <th>4</th>\n      <td>6</td>\n      <td>6</td>\n      <td>PAIDOFF</td>\n      <td>1000</td>\n      <td>30</td>\n      <td>2016-09-09</td>\n      <td>2016-10-08</td>\n      <td>29</td>\n      <td>college</td>\n      <td>0</td>\n      <td>4</td>\n      <td>5</td>\n      <td>1</td>\n      <td>1</td>\n    </tr>\n  </tbody>\n</table>\n</div>",
                        "text/plain": "   Unnamed: 0  Unnamed: 0.1 loan_status  Principal  terms effective_date  \\\n0           0             0     PAIDOFF       1000     30     2016-09-08   \n1           2             2     PAIDOFF       1000     30     2016-09-08   \n2           3             3     PAIDOFF       1000     15     2016-09-08   \n3           4             4     PAIDOFF       1000     30     2016-09-09   \n4           6             6     PAIDOFF       1000     30     2016-09-09   \n\n    due_date  age             education  Gender  dayofweek  dayofweekdue  \\\n0 2016-10-07   45  High School or Below       0          3             4   \n1 2016-10-07   33              Bechalor       1          3             4   \n2 2016-09-22   27               college       0          3             3   \n3 2016-10-08   28               college       1          4             5   \n4 2016-10-08   29               college       0          4             5   \n\n   weekend  weekenddue  \n0        0           1  \n1        0           1  \n2        0           0  \n3        1           1  \n4        1           1  "
                    },
                    "execution_count": 368,
                    "metadata": {},
                    "output_type": "execute_result"
                }
            ],
            "source": "df['Gender'].replace(to_replace=['male','female'], value=[0,1],inplace=True)\ndf.head()"
        },
        {
            "cell_type": "markdown",
            "metadata": {
                "button": false,
                "new_sheet": false,
                "run_control": {
                    "read_only": false
                }
            },
            "source": "## One Hot Encoding  \n#### How about education?"
        },
        {
            "cell_type": "code",
            "execution_count": 369,
            "metadata": {
                "button": false,
                "new_sheet": false,
                "run_control": {
                    "read_only": false
                }
            },
            "outputs": [
                {
                    "data": {
                        "text/plain": "education             loan_status\nBechalor              PAIDOFF         33\n                      COLLECTION      11\nHigh School or Below  PAIDOFF        112\n                      COLLECTION      39\nMaster or Above       COLLECTION       1\n                      PAIDOFF          1\ncollege               PAIDOFF        114\n                      COLLECTION      35\nName: loan_status, dtype: int64"
                    },
                    "execution_count": 369,
                    "metadata": {},
                    "output_type": "execute_result"
                }
            ],
            "source": "df.groupby(['education'])['loan_status'].value_counts()"
        },
        {
            "cell_type": "markdown",
            "metadata": {
                "button": false,
                "new_sheet": false,
                "run_control": {
                    "read_only": false
                }
            },
            "source": "#### Feature befor One Hot Encoding"
        },
        {
            "cell_type": "code",
            "execution_count": 370,
            "metadata": {
                "button": false,
                "new_sheet": false,
                "run_control": {
                    "read_only": false
                }
            },
            "outputs": [
                {
                    "data": {
                        "text/html": "<div>\n<style scoped>\n    .dataframe tbody tr th:only-of-type {\n        vertical-align: middle;\n    }\n\n    .dataframe tbody tr th {\n        vertical-align: top;\n    }\n\n    .dataframe thead th {\n        text-align: right;\n    }\n</style>\n<table border=\"1\" class=\"dataframe\">\n  <thead>\n    <tr style=\"text-align: right;\">\n      <th></th>\n      <th>Principal</th>\n      <th>terms</th>\n      <th>age</th>\n      <th>Gender</th>\n      <th>education</th>\n    </tr>\n  </thead>\n  <tbody>\n    <tr>\n      <th>0</th>\n      <td>1000</td>\n      <td>30</td>\n      <td>45</td>\n      <td>0</td>\n      <td>High School or Below</td>\n    </tr>\n    <tr>\n      <th>1</th>\n      <td>1000</td>\n      <td>30</td>\n      <td>33</td>\n      <td>1</td>\n      <td>Bechalor</td>\n    </tr>\n    <tr>\n      <th>2</th>\n      <td>1000</td>\n      <td>15</td>\n      <td>27</td>\n      <td>0</td>\n      <td>college</td>\n    </tr>\n    <tr>\n      <th>3</th>\n      <td>1000</td>\n      <td>30</td>\n      <td>28</td>\n      <td>1</td>\n      <td>college</td>\n    </tr>\n    <tr>\n      <th>4</th>\n      <td>1000</td>\n      <td>30</td>\n      <td>29</td>\n      <td>0</td>\n      <td>college</td>\n    </tr>\n  </tbody>\n</table>\n</div>",
                        "text/plain": "   Principal  terms  age  Gender             education\n0       1000     30   45       0  High School or Below\n1       1000     30   33       1              Bechalor\n2       1000     15   27       0               college\n3       1000     30   28       1               college\n4       1000     30   29       0               college"
                    },
                    "execution_count": 370,
                    "metadata": {},
                    "output_type": "execute_result"
                }
            ],
            "source": "df[['Principal','terms','age','Gender','education']].head()"
        },
        {
            "cell_type": "markdown",
            "metadata": {
                "button": false,
                "new_sheet": false,
                "run_control": {
                    "read_only": false
                }
            },
            "source": "#### Use one hot encoding technique to conver categorical varables to binary variables and append them to the feature Data Frame "
        },
        {
            "cell_type": "code",
            "execution_count": 371,
            "metadata": {
                "button": false,
                "new_sheet": false,
                "run_control": {
                    "read_only": false
                }
            },
            "outputs": [
                {
                    "data": {
                        "text/html": "<div>\n<style scoped>\n    .dataframe tbody tr th:only-of-type {\n        vertical-align: middle;\n    }\n\n    .dataframe tbody tr th {\n        vertical-align: top;\n    }\n\n    .dataframe thead th {\n        text-align: right;\n    }\n</style>\n<table border=\"1\" class=\"dataframe\">\n  <thead>\n    <tr style=\"text-align: right;\">\n      <th></th>\n      <th>Principal</th>\n      <th>terms</th>\n      <th>age</th>\n      <th>Gender</th>\n      <th>weekend</th>\n      <th>weekenddue</th>\n      <th>dayofweek</th>\n      <th>dayofweekdue</th>\n      <th>Bechalor</th>\n      <th>High School or Below</th>\n      <th>college</th>\n    </tr>\n  </thead>\n  <tbody>\n    <tr>\n      <th>0</th>\n      <td>1000</td>\n      <td>30</td>\n      <td>45</td>\n      <td>0</td>\n      <td>0</td>\n      <td>1</td>\n      <td>3</td>\n      <td>4</td>\n      <td>0</td>\n      <td>1</td>\n      <td>0</td>\n    </tr>\n    <tr>\n      <th>1</th>\n      <td>1000</td>\n      <td>30</td>\n      <td>33</td>\n      <td>1</td>\n      <td>0</td>\n      <td>1</td>\n      <td>3</td>\n      <td>4</td>\n      <td>1</td>\n      <td>0</td>\n      <td>0</td>\n    </tr>\n    <tr>\n      <th>2</th>\n      <td>1000</td>\n      <td>15</td>\n      <td>27</td>\n      <td>0</td>\n      <td>0</td>\n      <td>0</td>\n      <td>3</td>\n      <td>3</td>\n      <td>0</td>\n      <td>0</td>\n      <td>1</td>\n    </tr>\n    <tr>\n      <th>3</th>\n      <td>1000</td>\n      <td>30</td>\n      <td>28</td>\n      <td>1</td>\n      <td>1</td>\n      <td>1</td>\n      <td>4</td>\n      <td>5</td>\n      <td>0</td>\n      <td>0</td>\n      <td>1</td>\n    </tr>\n    <tr>\n      <th>4</th>\n      <td>1000</td>\n      <td>30</td>\n      <td>29</td>\n      <td>0</td>\n      <td>1</td>\n      <td>1</td>\n      <td>4</td>\n      <td>5</td>\n      <td>0</td>\n      <td>0</td>\n      <td>1</td>\n    </tr>\n  </tbody>\n</table>\n</div>",
                        "text/plain": "   Principal  terms  age  Gender  weekend  weekenddue  dayofweek  \\\n0       1000     30   45       0        0           1          3   \n1       1000     30   33       1        0           1          3   \n2       1000     15   27       0        0           0          3   \n3       1000     30   28       1        1           1          4   \n4       1000     30   29       0        1           1          4   \n\n   dayofweekdue  Bechalor  High School or Below  college  \n0             4         0                     1        0  \n1             4         1                     0        0  \n2             3         0                     0        1  \n3             5         0                     0        1  \n4             5         0                     0        1  "
                    },
                    "execution_count": 371,
                    "metadata": {},
                    "output_type": "execute_result"
                }
            ],
            "source": "Feature = df[['Principal','terms','age','Gender','weekend', 'weekenddue', 'dayofweek', 'dayofweekdue']]\nFeature = pd.concat([Feature,pd.get_dummies(df['education'])], axis=1)\nFeature.drop(['Master or Above'], axis = 1,inplace=True)\nFeature.head()\n"
        },
        {
            "cell_type": "markdown",
            "metadata": {
                "button": false,
                "new_sheet": false,
                "run_control": {
                    "read_only": false
                }
            },
            "source": "### Feature selection"
        },
        {
            "cell_type": "markdown",
            "metadata": {
                "button": false,
                "new_sheet": false,
                "run_control": {
                    "read_only": false
                }
            },
            "source": "Lets defind feature sets, X:"
        },
        {
            "cell_type": "code",
            "execution_count": 372,
            "metadata": {
                "button": false,
                "new_sheet": false,
                "run_control": {
                    "read_only": false
                }
            },
            "outputs": [
                {
                    "data": {
                        "text/html": "<div>\n<style scoped>\n    .dataframe tbody tr th:only-of-type {\n        vertical-align: middle;\n    }\n\n    .dataframe tbody tr th {\n        vertical-align: top;\n    }\n\n    .dataframe thead th {\n        text-align: right;\n    }\n</style>\n<table border=\"1\" class=\"dataframe\">\n  <thead>\n    <tr style=\"text-align: right;\">\n      <th></th>\n      <th>Principal</th>\n      <th>terms</th>\n      <th>age</th>\n      <th>Gender</th>\n      <th>weekend</th>\n      <th>weekenddue</th>\n      <th>dayofweek</th>\n      <th>dayofweekdue</th>\n      <th>Bechalor</th>\n      <th>High School or Below</th>\n      <th>college</th>\n    </tr>\n  </thead>\n  <tbody>\n    <tr>\n      <th>0</th>\n      <td>1000</td>\n      <td>30</td>\n      <td>45</td>\n      <td>0</td>\n      <td>0</td>\n      <td>1</td>\n      <td>3</td>\n      <td>4</td>\n      <td>0</td>\n      <td>1</td>\n      <td>0</td>\n    </tr>\n    <tr>\n      <th>1</th>\n      <td>1000</td>\n      <td>30</td>\n      <td>33</td>\n      <td>1</td>\n      <td>0</td>\n      <td>1</td>\n      <td>3</td>\n      <td>4</td>\n      <td>1</td>\n      <td>0</td>\n      <td>0</td>\n    </tr>\n    <tr>\n      <th>2</th>\n      <td>1000</td>\n      <td>15</td>\n      <td>27</td>\n      <td>0</td>\n      <td>0</td>\n      <td>0</td>\n      <td>3</td>\n      <td>3</td>\n      <td>0</td>\n      <td>0</td>\n      <td>1</td>\n    </tr>\n    <tr>\n      <th>3</th>\n      <td>1000</td>\n      <td>30</td>\n      <td>28</td>\n      <td>1</td>\n      <td>1</td>\n      <td>1</td>\n      <td>4</td>\n      <td>5</td>\n      <td>0</td>\n      <td>0</td>\n      <td>1</td>\n    </tr>\n    <tr>\n      <th>4</th>\n      <td>1000</td>\n      <td>30</td>\n      <td>29</td>\n      <td>0</td>\n      <td>1</td>\n      <td>1</td>\n      <td>4</td>\n      <td>5</td>\n      <td>0</td>\n      <td>0</td>\n      <td>1</td>\n    </tr>\n  </tbody>\n</table>\n</div>",
                        "text/plain": "   Principal  terms  age  Gender  weekend  weekenddue  dayofweek  \\\n0       1000     30   45       0        0           1          3   \n1       1000     30   33       1        0           1          3   \n2       1000     15   27       0        0           0          3   \n3       1000     30   28       1        1           1          4   \n4       1000     30   29       0        1           1          4   \n\n   dayofweekdue  Bechalor  High School or Below  college  \n0             4         0                     1        0  \n1             4         1                     0        0  \n2             3         0                     0        1  \n3             5         0                     0        1  \n4             5         0                     0        1  "
                    },
                    "execution_count": 372,
                    "metadata": {},
                    "output_type": "execute_result"
                }
            ],
            "source": "X = Feature\nX[0:5]"
        },
        {
            "cell_type": "markdown",
            "metadata": {
                "button": false,
                "new_sheet": false,
                "run_control": {
                    "read_only": false
                }
            },
            "source": "What are our lables?"
        },
        {
            "cell_type": "code",
            "execution_count": 373,
            "metadata": {
                "button": false,
                "new_sheet": false,
                "run_control": {
                    "read_only": false
                }
            },
            "outputs": [
                {
                    "data": {
                        "text/plain": "array(['PAIDOFF', 'PAIDOFF', 'PAIDOFF', 'PAIDOFF', 'PAIDOFF'],\n      dtype=object)"
                    },
                    "execution_count": 373,
                    "metadata": {},
                    "output_type": "execute_result"
                }
            ],
            "source": "y = df['loan_status'].values\ny[0:5]"
        },
        {
            "cell_type": "markdown",
            "metadata": {
                "button": false,
                "new_sheet": false,
                "run_control": {
                    "read_only": false
                }
            },
            "source": "## Normalize Data "
        },
        {
            "cell_type": "markdown",
            "metadata": {
                "button": false,
                "new_sheet": false,
                "run_control": {
                    "read_only": false
                }
            },
            "source": "Data Standardization give data zero mean and unit variance (technically should be done after train test split )"
        },
        {
            "cell_type": "code",
            "execution_count": 374,
            "metadata": {
                "button": false,
                "new_sheet": false,
                "run_control": {
                    "read_only": false
                }
            },
            "outputs": [
                {
                    "name": "stderr",
                    "output_type": "stream",
                    "text": "/opt/conda/envs/Python36/lib/python3.6/site-packages/sklearn/preprocessing/data.py:645: DataConversionWarning: Data with input dtype uint8, int64 were all converted to float64 by StandardScaler.\n  return self.partial_fit(X, y)\n/opt/conda/envs/Python36/lib/python3.6/site-packages/sklearn/base.py:464: DataConversionWarning: Data with input dtype uint8, int64 were all converted to float64 by StandardScaler.\n  return self.fit(X, **fit_params).transform(X)\n"
                },
                {
                    "data": {
                        "text/plain": "array([[ 0.51578458,  0.92071769,  2.33152555, -0.42056004, -1.20577805,\n         1.43594808, -0.26122054,  0.667101  , -0.38170062,  1.13639374,\n        -0.86968108],\n       [ 0.51578458,  0.92071769,  0.34170148,  2.37778177, -1.20577805,\n         1.43594808, -0.26122054,  0.667101  ,  2.61985426, -0.87997669,\n        -0.86968108],\n       [ 0.51578458, -0.95911111, -0.65321055, -0.42056004, -1.20577805,\n        -0.69640401, -0.26122054,  0.26498089, -0.38170062, -0.87997669,\n         1.14984679],\n       [ 0.51578458,  0.92071769, -0.48739188,  2.37778177,  0.82934003,\n         1.43594808,  0.12175534,  1.06922112, -0.38170062, -0.87997669,\n         1.14984679],\n       [ 0.51578458,  0.92071769, -0.3215732 , -0.42056004,  0.82934003,\n         1.43594808,  0.12175534,  1.06922112, -0.38170062, -0.87997669,\n         1.14984679]])"
                    },
                    "execution_count": 374,
                    "metadata": {},
                    "output_type": "execute_result"
                }
            ],
            "source": "X= preprocessing.StandardScaler().fit_transform(X)\nX[0:5]"
        },
        {
            "cell_type": "markdown",
            "metadata": {
                "button": false,
                "new_sheet": false,
                "run_control": {
                    "read_only": false
                }
            },
            "source": "# Classification "
        },
        {
            "cell_type": "markdown",
            "metadata": {
                "button": false,
                "new_sheet": false,
                "run_control": {
                    "read_only": false
                }
            },
            "source": "Now, it is your turn, use the training set to build an accurate model. Then use the test set to report the accuracy of the model\nYou should use the following algorithm:\n- K Nearest Neighbor(KNN)\n- Decision Tree\n- Support Vector Machine\n- Logistic Regression\n\n\n\n__ Notice:__ \n- You can go above and change the pre-processing, feature selection, feature-extraction, and so on, to make a better model.\n- You should use either scikit-learn, Scipy or Numpy libraries for developing the classification algorithms.\n- You should include the code of the algorithm in the following cells."
        },
        {
            "cell_type": "markdown",
            "metadata": {},
            "source": "**Before proceeding with algorithm development, first we get back to 'Feature' DataFrame and split it into train and validation sets**\n\nTo prevent data leakage from validation to train sets, we will use the initial Feature DataFrame as X, and split it into train and validation\nWe also substitute the PAIDOFF and COLLECTION values in y labels into 1 and 0 respectively."
        },
        {
            "cell_type": "code",
            "execution_count": 375,
            "metadata": {},
            "outputs": [
                {
                    "name": "stdout",
                    "output_type": "stream",
                    "text": "0    1\n1    1\n2    1\n3    1\n4    1\nName: loan_status, dtype: int64\n"
                },
                {
                    "data": {
                        "text/html": "<div>\n<style scoped>\n    .dataframe tbody tr th:only-of-type {\n        vertical-align: middle;\n    }\n\n    .dataframe tbody tr th {\n        vertical-align: top;\n    }\n\n    .dataframe thead th {\n        text-align: right;\n    }\n</style>\n<table border=\"1\" class=\"dataframe\">\n  <thead>\n    <tr style=\"text-align: right;\">\n      <th></th>\n      <th>Principal</th>\n      <th>terms</th>\n      <th>age</th>\n      <th>Gender</th>\n      <th>weekend</th>\n      <th>weekenddue</th>\n      <th>dayofweek</th>\n      <th>dayofweekdue</th>\n      <th>Bechalor</th>\n      <th>High School or Below</th>\n      <th>college</th>\n    </tr>\n  </thead>\n  <tbody>\n    <tr>\n      <th>0</th>\n      <td>1000</td>\n      <td>30</td>\n      <td>45</td>\n      <td>0</td>\n      <td>0</td>\n      <td>1</td>\n      <td>3</td>\n      <td>4</td>\n      <td>0</td>\n      <td>1</td>\n      <td>0</td>\n    </tr>\n    <tr>\n      <th>1</th>\n      <td>1000</td>\n      <td>30</td>\n      <td>33</td>\n      <td>1</td>\n      <td>0</td>\n      <td>1</td>\n      <td>3</td>\n      <td>4</td>\n      <td>1</td>\n      <td>0</td>\n      <td>0</td>\n    </tr>\n    <tr>\n      <th>2</th>\n      <td>1000</td>\n      <td>15</td>\n      <td>27</td>\n      <td>0</td>\n      <td>0</td>\n      <td>0</td>\n      <td>3</td>\n      <td>3</td>\n      <td>0</td>\n      <td>0</td>\n      <td>1</td>\n    </tr>\n    <tr>\n      <th>3</th>\n      <td>1000</td>\n      <td>30</td>\n      <td>28</td>\n      <td>1</td>\n      <td>1</td>\n      <td>1</td>\n      <td>4</td>\n      <td>5</td>\n      <td>0</td>\n      <td>0</td>\n      <td>1</td>\n    </tr>\n    <tr>\n      <th>4</th>\n      <td>1000</td>\n      <td>30</td>\n      <td>29</td>\n      <td>0</td>\n      <td>1</td>\n      <td>1</td>\n      <td>4</td>\n      <td>5</td>\n      <td>0</td>\n      <td>0</td>\n      <td>1</td>\n    </tr>\n  </tbody>\n</table>\n</div>",
                        "text/plain": "   Principal  terms  age  Gender  weekend  weekenddue  dayofweek  \\\n0       1000     30   45       0        0           1          3   \n1       1000     30   33       1        0           1          3   \n2       1000     15   27       0        0           0          3   \n3       1000     30   28       1        1           1          4   \n4       1000     30   29       0        1           1          4   \n\n   dayofweekdue  Bechalor  High School or Below  college  \n0             4         0                     1        0  \n1             4         1                     0        0  \n2             3         0                     0        1  \n3             5         0                     0        1  \n4             5         0                     0        1  "
                    },
                    "execution_count": 375,
                    "metadata": {},
                    "output_type": "execute_result"
                }
            ],
            "source": "X = Feature\ny = df['loan_status'].replace(to_replace=['PAIDOFF','COLLECTION'], value=[1,0])\nprint(y.head())\nX.head()"
        },
        {
            "cell_type": "code",
            "execution_count": 376,
            "metadata": {},
            "outputs": [
                {
                    "data": {
                        "text/plain": "Principal              -0.076309\nterms                  -0.102102\nage                     0.027479\nGender                  0.110877\nweekend                -0.436145\nweekenddue             -0.169885\ndayofweek              -0.408097\ndayofweekdue           -0.112060\nBechalor               -0.001276\nHigh School or Below   -0.019798\ncollege                 0.027480\ndtype: float64"
                    },
                    "execution_count": 376,
                    "metadata": {},
                    "output_type": "execute_result"
                }
            ],
            "source": "X.corrwith(y)"
        },
        {
            "cell_type": "code",
            "execution_count": 377,
            "metadata": {},
            "outputs": [
                {
                    "data": {
                        "text/html": "<div>\n<style scoped>\n    .dataframe tbody tr th:only-of-type {\n        vertical-align: middle;\n    }\n\n    .dataframe tbody tr th {\n        vertical-align: top;\n    }\n\n    .dataframe thead th {\n        text-align: right;\n    }\n</style>\n<table border=\"1\" class=\"dataframe\">\n  <thead>\n    <tr style=\"text-align: right;\">\n      <th></th>\n      <th>Principal</th>\n      <th>terms</th>\n      <th>age</th>\n      <th>Gender</th>\n      <th>weekend</th>\n      <th>weekenddue</th>\n      <th>dayofweek</th>\n      <th>dayofweekdue</th>\n      <th>Bechalor</th>\n      <th>High School or Below</th>\n      <th>college</th>\n    </tr>\n  </thead>\n  <tbody>\n    <tr>\n      <th>Principal</th>\n      <td>1.000000</td>\n      <td>0.521876</td>\n      <td>-0.060893</td>\n      <td>-0.005134</td>\n      <td>0.089006</td>\n      <td>-0.266865</td>\n      <td>0.102318</td>\n      <td>-0.241972</td>\n      <td>0.022212</td>\n      <td>0.011206</td>\n      <td>-0.021506</td>\n    </tr>\n    <tr>\n      <th>terms</th>\n      <td>0.521876</td>\n      <td>1.000000</td>\n      <td>-0.064762</td>\n      <td>-0.032399</td>\n      <td>0.084842</td>\n      <td>-0.446267</td>\n      <td>0.107344</td>\n      <td>-0.384815</td>\n      <td>-0.057337</td>\n      <td>0.101787</td>\n      <td>-0.052172</td>\n    </tr>\n    <tr>\n      <th>age</th>\n      <td>-0.060893</td>\n      <td>-0.064762</td>\n      <td>1.000000</td>\n      <td>-0.010519</td>\n      <td>0.000431</td>\n      <td>0.084675</td>\n      <td>0.036584</td>\n      <td>0.094846</td>\n      <td>0.057065</td>\n      <td>0.066836</td>\n      <td>-0.131585</td>\n    </tr>\n    <tr>\n      <th>Gender</th>\n      <td>-0.005134</td>\n      <td>-0.032399</td>\n      <td>-0.010519</td>\n      <td>1.000000</td>\n      <td>-0.079157</td>\n      <td>-0.034193</td>\n      <td>-0.072690</td>\n      <td>-0.028405</td>\n      <td>0.082229</td>\n      <td>-0.043927</td>\n      <td>-0.006420</td>\n    </tr>\n    <tr>\n      <th>weekend</th>\n      <td>0.089006</td>\n      <td>0.084842</td>\n      <td>0.000431</td>\n      <td>-0.079157</td>\n      <td>1.000000</td>\n      <td>0.477218</td>\n      <td>0.964505</td>\n      <td>0.319508</td>\n      <td>0.016430</td>\n      <td>-0.064819</td>\n      <td>0.044184</td>\n    </tr>\n    <tr>\n      <th>weekenddue</th>\n      <td>-0.266865</td>\n      <td>-0.446267</td>\n      <td>0.084675</td>\n      <td>-0.034193</td>\n      <td>0.477218</td>\n      <td>1.000000</td>\n      <td>0.417583</td>\n      <td>0.932954</td>\n      <td>0.048651</td>\n      <td>-0.103328</td>\n      <td>0.053993</td>\n    </tr>\n    <tr>\n      <th>dayofweek</th>\n      <td>0.102318</td>\n      <td>0.107344</td>\n      <td>0.036584</td>\n      <td>-0.072690</td>\n      <td>0.964505</td>\n      <td>0.417583</td>\n      <td>1.000000</td>\n      <td>0.308679</td>\n      <td>0.039829</td>\n      <td>-0.071406</td>\n      <td>0.034357</td>\n    </tr>\n    <tr>\n      <th>dayofweekdue</th>\n      <td>-0.241972</td>\n      <td>-0.384815</td>\n      <td>0.094846</td>\n      <td>-0.028405</td>\n      <td>0.319508</td>\n      <td>0.932954</td>\n      <td>0.308679</td>\n      <td>1.000000</td>\n      <td>0.024399</td>\n      <td>-0.104275</td>\n      <td>0.070847</td>\n    </tr>\n    <tr>\n      <th>Bechalor</th>\n      <td>0.022212</td>\n      <td>-0.057337</td>\n      <td>0.057065</td>\n      <td>0.082229</td>\n      <td>0.016430</td>\n      <td>0.048651</td>\n      <td>0.039829</td>\n      <td>0.024399</td>\n      <td>1.000000</td>\n      <td>-0.335888</td>\n      <td>-0.331958</td>\n    </tr>\n    <tr>\n      <th>High School or Below</th>\n      <td>0.011206</td>\n      <td>0.101787</td>\n      <td>0.066836</td>\n      <td>-0.043927</td>\n      <td>-0.064819</td>\n      <td>-0.103328</td>\n      <td>-0.071406</td>\n      <td>-0.104275</td>\n      <td>-0.335888</td>\n      <td>1.000000</td>\n      <td>-0.765299</td>\n    </tr>\n    <tr>\n      <th>college</th>\n      <td>-0.021506</td>\n      <td>-0.052172</td>\n      <td>-0.131585</td>\n      <td>-0.006420</td>\n      <td>0.044184</td>\n      <td>0.053993</td>\n      <td>0.034357</td>\n      <td>0.070847</td>\n      <td>-0.331958</td>\n      <td>-0.765299</td>\n      <td>1.000000</td>\n    </tr>\n  </tbody>\n</table>\n</div>",
                        "text/plain": "                      Principal     terms       age    Gender   weekend  \\\nPrincipal              1.000000  0.521876 -0.060893 -0.005134  0.089006   \nterms                  0.521876  1.000000 -0.064762 -0.032399  0.084842   \nage                   -0.060893 -0.064762  1.000000 -0.010519  0.000431   \nGender                -0.005134 -0.032399 -0.010519  1.000000 -0.079157   \nweekend                0.089006  0.084842  0.000431 -0.079157  1.000000   \nweekenddue            -0.266865 -0.446267  0.084675 -0.034193  0.477218   \ndayofweek              0.102318  0.107344  0.036584 -0.072690  0.964505   \ndayofweekdue          -0.241972 -0.384815  0.094846 -0.028405  0.319508   \nBechalor               0.022212 -0.057337  0.057065  0.082229  0.016430   \nHigh School or Below   0.011206  0.101787  0.066836 -0.043927 -0.064819   \ncollege               -0.021506 -0.052172 -0.131585 -0.006420  0.044184   \n\n                      weekenddue  dayofweek  dayofweekdue  Bechalor  \\\nPrincipal              -0.266865   0.102318     -0.241972  0.022212   \nterms                  -0.446267   0.107344     -0.384815 -0.057337   \nage                     0.084675   0.036584      0.094846  0.057065   \nGender                 -0.034193  -0.072690     -0.028405  0.082229   \nweekend                 0.477218   0.964505      0.319508  0.016430   \nweekenddue              1.000000   0.417583      0.932954  0.048651   \ndayofweek               0.417583   1.000000      0.308679  0.039829   \ndayofweekdue            0.932954   0.308679      1.000000  0.024399   \nBechalor                0.048651   0.039829      0.024399  1.000000   \nHigh School or Below   -0.103328  -0.071406     -0.104275 -0.335888   \ncollege                 0.053993   0.034357      0.070847 -0.331958   \n\n                      High School or Below   college  \nPrincipal                         0.011206 -0.021506  \nterms                             0.101787 -0.052172  \nage                               0.066836 -0.131585  \nGender                           -0.043927 -0.006420  \nweekend                          -0.064819  0.044184  \nweekenddue                       -0.103328  0.053993  \ndayofweek                        -0.071406  0.034357  \ndayofweekdue                     -0.104275  0.070847  \nBechalor                         -0.335888 -0.331958  \nHigh School or Below              1.000000 -0.765299  \ncollege                          -0.765299  1.000000  "
                    },
                    "execution_count": 377,
                    "metadata": {},
                    "output_type": "execute_result"
                }
            ],
            "source": "X.corr()"
        },
        {
            "cell_type": "markdown",
            "metadata": {},
            "source": "## Here we define a preprocessing function"
        },
        {
            "cell_type": "code",
            "execution_count": 378,
            "metadata": {},
            "outputs": [],
            "source": "def preprocess(X, need_y=False):\n    df = X.copy()\n    df['due_date'] = pd.to_datetime(df['due_date'])\n    df['effective_date'] = pd.to_datetime(df['effective_date'])\n\n    df['dayofweek'] = df['effective_date'].dt.dayofweek\n\n    df['dayofweekdue'] = df['due_date'].dt.dayofweek\n\n    df['weekend'] = df['dayofweek'].apply(lambda x: 1 if (x>3)  else 0)\n    df['weekenddue'] = df['dayofweekdue'].apply(lambda x: 1 if (x>3)  else 0)\n\n    df['Gender'].replace(to_replace=['male','female'], value=[0,1], inplace=True)\n\n    Feature = df[['Principal','terms','age','Gender','weekend', 'weekenddue', 'dayofweek', 'dayofweekdue']]\n    Feature = pd.concat([Feature,pd.get_dummies(df['education'])], axis=1)\n    Feature = Feature.drop(['Master or Above'], axis = 1)\n\n    X = Feature\n    if need_y:\n        y = df['loan_status'].replace(to_replace=['PAIDOFF','COLLECTION'], value=[1,0])\n        return X, y\n    else:\n        return X\n    \n    \ndef scale(X, scaler=None):\n    if scaler:\n        X_scaled = scaler.transform(X)\n        return X_scaled\n    else:\n        scaler = preprocessing.StandardScaler()\n        X_scaled = scaler.fit_transform(X)\n        return X_scaled, scaler\n        "
        },
        {
            "cell_type": "markdown",
            "metadata": {},
            "source": "## Here we define a helper function for evaluation"
        },
        {
            "cell_type": "code",
            "execution_count": 379,
            "metadata": {},
            "outputs": [],
            "source": "from sklearn.metrics import jaccard_similarity_score\nfrom sklearn.metrics import f1_score\nfrom sklearn.metrics import log_loss\n\nmeasures = {'Jaccard': jaccard_similarity_score, 'F1-score': f1_score, 'Log Loss': log_loss}\n\ndef measure_the_classifier(y_pred, y_true):\n    result = {}\n    for meas_name, meas_func in measures.items():\n        result[meas_name] = round(meas_func(y_pred, y_true), 3)\n    return result\n"
        },
        {
            "cell_type": "code",
            "execution_count": 381,
            "metadata": {},
            "outputs": [
                {
                    "name": "stderr",
                    "output_type": "stream",
                    "text": "/opt/conda/envs/Python36/lib/python3.6/site-packages/sklearn/preprocessing/data.py:645: DataConversionWarning: Data with input dtype uint8, int64 were all converted to float64 by StandardScaler.\n  return self.partial_fit(X, y)\n/opt/conda/envs/Python36/lib/python3.6/site-packages/sklearn/base.py:464: DataConversionWarning: Data with input dtype uint8, int64 were all converted to float64 by StandardScaler.\n  return self.fit(X, **fit_params).transform(X)\n/opt/conda/envs/Python36/lib/python3.6/site-packages/ipykernel/__main__.py:7: DataConversionWarning: Data with input dtype uint8, int64 were all converted to float64 by StandardScaler.\n"
                }
            ],
            "source": "from sklearn.model_selection import train_test_split\nX, y = preprocess(df_untouched, need_y=True)\n\nX_train, X_valid, y_train, y_valid = train_test_split(X, y, test_size=0.2, random_state=4)\n\nX_train, scaler = scale(X_train)\nX_valid = scaler.transform(X_valid)"
        },
        {
            "cell_type": "markdown",
            "metadata": {},
            "source": "# K Nearest Neighbor(KNN)\nNotice: You should find the best k to build the model with the best accuracy.  \n**warning:** You should not use the __loan_test.csv__ for finding the best k, however, you can split your train_loan.csv into train and test to find the best __k__."
        },
        {
            "cell_type": "code",
            "execution_count": 382,
            "metadata": {},
            "outputs": [],
            "source": "from sklearn.neighbors import KNeighborsClassifier"
        },
        {
            "cell_type": "code",
            "execution_count": 383,
            "metadata": {},
            "outputs": [],
            "source": "knn_results = []\nmax_k = 30\nfor k in range(1, max_k+1):\n    knn_classifier = KNeighborsClassifier(n_neighbors = k)\n    knn_classifier.fit(X_train, y_train)\n    y_pred_knn = knn_classifier.predict(X_valid)\n    knn_result = measure_the_classifier(y_pred_knn, y_valid)\n    knn_results.append(knn_result)"
        },
        {
            "cell_type": "code",
            "execution_count": 384,
            "metadata": {},
            "outputs": [
                {
                    "name": "stdout",
                    "output_type": "stream",
                    "text": "Best K based on f1_score is:27, f1_score:0.887\n{'Jaccard': 0.8, 'F1-score': 0.887, 'Log Loss': 6.908}\n"
                },
                {
                    "data": {
                        "image/png": "[encoded data removed]",
                        "text/plain": "<Figure size 432x288 with 1 Axes>"
                    },
                    "metadata": {
                        "needs_background": "light"
                    },
                    "output_type": "display_data"
                }
            ],
            "source": "f1_res = [i['F1-score'] for i in knn_results]\nbest_k = 0\nbest_k_result = -1\nfor i in f1_res:\n    if i > best_k_result:\n        best_k = f1_res.index(i) + 1\n        best_k_result = i\nprint(f'Best K based on f1_score is:{best_k}, f1_score:{best_k_result}')\nplt.plot(range(1, max_k+1), f1_res)\n\n# Our algorithm performs very good in training set for k = 3 to 5, \n# but I decided to change it to 12, because my intuition tells me\n# that for better performance we have to use more instances than 3 or 5.\n# also good performance here can be related to the current separation of\n# test and train sets.\nknn_classifier = KNeighborsClassifier(n_neighbors=best_k)\nknn_classifier.fit(X_train, y_train)\ny_pred_knn = knn_classifier.predict(X_valid)\nknn_result = measure_the_classifier(y_pred_knn, y_valid)\nprint(knn_result)"
        },
        {
            "cell_type": "markdown",
            "metadata": {},
            "source": "# Decision Tree"
        },
        {
            "cell_type": "code",
            "execution_count": 385,
            "metadata": {},
            "outputs": [],
            "source": "from sklearn.tree import DecisionTreeClassifier"
        },
        {
            "cell_type": "code",
            "execution_count": 390,
            "metadata": {},
            "outputs": [
                {
                    "data": {
                        "text/plain": "DecisionTreeClassifier(class_weight=None, criterion='entropy', max_depth=4,\n            max_features=None, max_leaf_nodes=None,\n            min_impurity_decrease=0.0, min_impurity_split=None,\n            min_samples_leaf=1, min_samples_split=2,\n            min_weight_fraction_leaf=0.0, presort=False, random_state=42,\n            splitter='best')"
                    },
                    "execution_count": 390,
                    "metadata": {},
                    "output_type": "execute_result"
                }
            ],
            "source": "tree_classifier = DecisionTreeClassifier(criterion=\"entropy\", max_depth = 4, random_state=42)\ntree_classifier.fit(X_train, y_train)"
        },
        {
            "cell_type": "code",
            "execution_count": 391,
            "metadata": {},
            "outputs": [
                {
                    "name": "stdout",
                    "output_type": "stream",
                    "text": "{'Jaccard': 0.671, 'F1-score': 0.785, 'Log Loss': 11.349}\n"
                }
            ],
            "source": "y_pred_tree = tree_classifier.predict(X_valid)\ntree_result = measure_the_classifier(y_pred_tree, y_valid)\nprint(tree_result)"
        },
        {
            "cell_type": "markdown",
            "metadata": {},
            "source": "# Support Vector Machine"
        },
        {
            "cell_type": "code",
            "execution_count": 392,
            "metadata": {},
            "outputs": [],
            "source": "from sklearn import svm"
        },
        {
            "cell_type": "code",
            "execution_count": 393,
            "metadata": {},
            "outputs": [
                {
                    "data": {
                        "text/plain": "SVC(C=1.0, cache_size=200, class_weight=None, coef0=0.0,\n  decision_function_shape='ovr', degree=3, gamma='auto', kernel='rbf',\n  max_iter=-1, probability=False, random_state=42, shrinking=True,\n  tol=0.001, verbose=False)"
                    },
                    "execution_count": 393,
                    "metadata": {},
                    "output_type": "execute_result"
                }
            ],
            "source": "svm_classifier = svm.SVC(kernel='rbf', gamma='auto', random_state=42)\nsvm_classifier.fit(X_train, y_train)"
        },
        {
            "cell_type": "code",
            "execution_count": 394,
            "metadata": {},
            "outputs": [
                {
                    "name": "stdout",
                    "output_type": "stream",
                    "text": "{'Jaccard': 0.757, 'F1-score': 0.852, 'Log Loss': 8.388}\n"
                }
            ],
            "source": "y_pred_svm = svm_classifier.predict(X_valid)\nsvm_result = measure_the_classifier(y_pred_svm, y_valid)\nprint(svm_result)"
        },
        {
            "cell_type": "markdown",
            "metadata": {},
            "source": "# Logistic Regression"
        },
        {
            "cell_type": "code",
            "execution_count": 395,
            "metadata": {},
            "outputs": [],
            "source": "from sklearn.linear_model import LogisticRegression"
        },
        {
            "cell_type": "code",
            "execution_count": 396,
            "metadata": {},
            "outputs": [
                {
                    "data": {
                        "text/plain": "LogisticRegression(C=0.01, class_weight=None, dual=False, fit_intercept=True,\n          intercept_scaling=1, max_iter=100, multi_class='warn',\n          n_jobs=None, penalty='l2', random_state=None, solver='liblinear',\n          tol=0.0001, verbose=0, warm_start=False)"
                    },
                    "execution_count": 396,
                    "metadata": {},
                    "output_type": "execute_result"
                }
            ],
            "source": "logistic_classifier = LogisticRegression(C=0.01, solver='liblinear')\nlogistic_classifier.fit(X_train,y_train)"
        },
        {
            "cell_type": "code",
            "execution_count": 397,
            "metadata": {},
            "outputs": [
                {
                    "name": "stdout",
                    "output_type": "stream",
                    "text": "{'Jaccard': 0.629, 'F1-score': 0.745, 'Log Loss': 12.829}\n"
                }
            ],
            "source": "y_pred_logist = logistic_classifier.predict(X_valid)\nlogist_result = measure_the_classifier(y_pred_logist, y_valid)\nprint(logist_result)"
        },
        {
            "cell_type": "markdown",
            "metadata": {},
            "source": "# Model Evaluation using Test set"
        },
        {
            "cell_type": "code",
            "execution_count": 398,
            "metadata": {},
            "outputs": [],
            "source": "from sklearn.metrics import jaccard_similarity_score\nfrom sklearn.metrics import f1_score\nfrom sklearn.metrics import log_loss"
        },
        {
            "cell_type": "markdown",
            "metadata": {},
            "source": "First, download and load the test set:"
        },
        {
            "cell_type": "code",
            "execution_count": 399,
            "metadata": {},
            "outputs": [
                {
                    "name": "stdout",
                    "output_type": "stream",
                    "text": "--2020-06-15 19:34:36--  https://s3-api.us-geo.objectstorage.softlayer.net/cf-courses-data/CognitiveClass/ML0101ENv3/labs/loan_test.csv\nResolving s3-api.us-geo.objectstorage.softlayer.net (s3-api.us-geo.objectstorage.softlayer.net)... 67.228.254.196\nConnecting to s3-api.us-geo.objectstorage.softlayer.net (s3-api.us-geo.objectstorage.softlayer.net)|67.228.254.196|:443... connected.\nHTTP request sent, awaiting response... 200 OK\nLength: 3642 (3.6K) [text/csv]\nSaving to: \u2018loan_test.csv\u2019\n\n100%[======================================>] 3,642       --.-K/s   in 0s      \n\n2020-06-15 19:34:36 (441 MB/s) - \u2018loan_test.csv\u2019 saved [3642/3642]\n\n"
                }
            ],
            "source": "!wget -O loan_test.csv https://s3-api.us-geo.objectstorage.softlayer.net/cf-courses-data/CognitiveClass/ML0101ENv3/labs/loan_test.csv"
        },
        {
            "cell_type": "markdown",
            "metadata": {
                "button": false,
                "new_sheet": false,
                "run_control": {
                    "read_only": false
                }
            },
            "source": "### Load Test set for evaluation "
        },
        {
            "cell_type": "code",
            "execution_count": 400,
            "metadata": {
                "button": false,
                "new_sheet": false,
                "run_control": {
                    "read_only": false
                }
            },
            "outputs": [
                {
                    "data": {
                        "text/html": "<div>\n<style scoped>\n    .dataframe tbody tr th:only-of-type {\n        vertical-align: middle;\n    }\n\n    .dataframe tbody tr th {\n        vertical-align: top;\n    }\n\n    .dataframe thead th {\n        text-align: right;\n    }\n</style>\n<table border=\"1\" class=\"dataframe\">\n  <thead>\n    <tr style=\"text-align: right;\">\n      <th></th>\n      <th>Unnamed: 0</th>\n      <th>Unnamed: 0.1</th>\n      <th>loan_status</th>\n      <th>Principal</th>\n      <th>terms</th>\n      <th>effective_date</th>\n      <th>due_date</th>\n      <th>age</th>\n      <th>education</th>\n      <th>Gender</th>\n    </tr>\n  </thead>\n  <tbody>\n    <tr>\n      <th>0</th>\n      <td>1</td>\n      <td>1</td>\n      <td>PAIDOFF</td>\n      <td>1000</td>\n      <td>30</td>\n      <td>9/8/2016</td>\n      <td>10/7/2016</td>\n      <td>50</td>\n      <td>Bechalor</td>\n      <td>female</td>\n    </tr>\n    <tr>\n      <th>1</th>\n      <td>5</td>\n      <td>5</td>\n      <td>PAIDOFF</td>\n      <td>300</td>\n      <td>7</td>\n      <td>9/9/2016</td>\n      <td>9/15/2016</td>\n      <td>35</td>\n      <td>Master or Above</td>\n      <td>male</td>\n    </tr>\n    <tr>\n      <th>2</th>\n      <td>21</td>\n      <td>21</td>\n      <td>PAIDOFF</td>\n      <td>1000</td>\n      <td>30</td>\n      <td>9/10/2016</td>\n      <td>10/9/2016</td>\n      <td>43</td>\n      <td>High School or Below</td>\n      <td>female</td>\n    </tr>\n    <tr>\n      <th>3</th>\n      <td>24</td>\n      <td>24</td>\n      <td>PAIDOFF</td>\n      <td>1000</td>\n      <td>30</td>\n      <td>9/10/2016</td>\n      <td>10/9/2016</td>\n      <td>26</td>\n      <td>college</td>\n      <td>male</td>\n    </tr>\n    <tr>\n      <th>4</th>\n      <td>35</td>\n      <td>35</td>\n      <td>PAIDOFF</td>\n      <td>800</td>\n      <td>15</td>\n      <td>9/11/2016</td>\n      <td>9/25/2016</td>\n      <td>29</td>\n      <td>Bechalor</td>\n      <td>male</td>\n    </tr>\n  </tbody>\n</table>\n</div>",
                        "text/plain": "   Unnamed: 0  Unnamed: 0.1 loan_status  Principal  terms effective_date  \\\n0           1             1     PAIDOFF       1000     30       9/8/2016   \n1           5             5     PAIDOFF        300      7       9/9/2016   \n2          21            21     PAIDOFF       1000     30      9/10/2016   \n3          24            24     PAIDOFF       1000     30      9/10/2016   \n4          35            35     PAIDOFF        800     15      9/11/2016   \n\n    due_date  age             education  Gender  \n0  10/7/2016   50              Bechalor  female  \n1  9/15/2016   35       Master or Above    male  \n2  10/9/2016   43  High School or Below  female  \n3  10/9/2016   26               college    male  \n4  9/25/2016   29              Bechalor    male  "
                    },
                    "execution_count": 400,
                    "metadata": {},
                    "output_type": "execute_result"
                }
            ],
            "source": "test_df = pd.read_csv('loan_test.csv')\ntest_df.head()"
        },
        {
            "cell_type": "code",
            "execution_count": 401,
            "metadata": {},
            "outputs": [
                {
                    "name": "stderr",
                    "output_type": "stream",
                    "text": "/opt/conda/envs/Python36/lib/python3.6/site-packages/ipykernel/__main__.py:2: DataConversionWarning: Data with input dtype uint8, int64 were all converted to float64 by StandardScaler.\n  from ipykernel import kernelapp as app\n"
                }
            ],
            "source": "X_test, y_test = preprocess(test_df, need_y=True)\nX_test = scaler.transform(X_test)"
        },
        {
            "cell_type": "code",
            "execution_count": 402,
            "metadata": {},
            "outputs": [],
            "source": "results = {}\nmodels = {'KNN': knn_classifier, 'Decision Tree': tree_classifier, 'SVM': svm_classifier, 'Logistic Regression': logistic_classifier}\nfor model_name, model in models.items():\n    new_pred = model.predict(X_test)\n    curr_result = measure_the_classifier(new_pred, y_test)\n    results[model_name] = curr_result"
        },
        {
            "cell_type": "code",
            "execution_count": 403,
            "metadata": {},
            "outputs": [
                {
                    "data": {
                        "text/html": "<div>\n<style scoped>\n    .dataframe tbody tr th:only-of-type {\n        vertical-align: middle;\n    }\n\n    .dataframe tbody tr th {\n        vertical-align: top;\n    }\n\n    .dataframe thead th {\n        text-align: right;\n    }\n</style>\n<table border=\"1\" class=\"dataframe\">\n  <thead>\n    <tr style=\"text-align: right;\">\n      <th></th>\n      <th>F1-score</th>\n      <th>Jaccard</th>\n      <th>Log Loss</th>\n    </tr>\n  </thead>\n  <tbody>\n    <tr>\n      <th>KNN</th>\n      <td>0.870</td>\n      <td>0.778</td>\n      <td>7.675</td>\n    </tr>\n    <tr>\n      <th>Decision Tree</th>\n      <td>0.831</td>\n      <td>0.722</td>\n      <td>9.594</td>\n    </tr>\n    <tr>\n      <th>SVM</th>\n      <td>0.876</td>\n      <td>0.796</td>\n      <td>7.036</td>\n    </tr>\n    <tr>\n      <th>Logistic Regression</th>\n      <td>0.805</td>\n      <td>0.722</td>\n      <td>9.594</td>\n    </tr>\n  </tbody>\n</table>\n</div>",
                        "text/plain": "                     F1-score  Jaccard  Log Loss\nKNN                     0.870    0.778     7.675\nDecision Tree           0.831    0.722     9.594\nSVM                     0.876    0.796     7.036\nLogistic Regression     0.805    0.722     9.594"
                    },
                    "execution_count": 403,
                    "metadata": {},
                    "output_type": "execute_result"
                }
            ],
            "source": "report = pd.DataFrame(results)\nreport = report.transpose()\nreport"
        },
        {
            "cell_type": "markdown",
            "metadata": {},
            "source": "# Report\nYou should be able to report the accuracy of the built model using different evaluation metrics:"
        },
        {
            "cell_type": "markdown",
            "metadata": {},
            "source": "| Algorithm          | Jaccard | F1-score | LogLoss |\n|--------------------|---------|----------|---------|\n| KNN                | ?       | ?        | NA      |\n| Decision Tree      | ?       | ?        | NA      |\n| SVM                | ?       | ?        | NA      |\n| LogisticRegression | ?       | ?        | ?       |"
        },
        {
            "cell_type": "markdown",
            "metadata": {
                "button": false,
                "new_sheet": false,
                "run_control": {
                    "read_only": false
                }
            },
            "source": "<h2>Want to learn more?</h2>\n\nIBM SPSS Modeler is a comprehensive analytics platform that has many machine learning algorithms. It has been designed to bring predictive intelligence to decisions made by individuals, by groups, by systems \u2013 by your enterprise as a whole. A free trial is available through this course, available here: <a href=\"http://cocl.us/ML0101EN-SPSSModeler\">SPSS Modeler</a>\n\nAlso, you can use Watson Studio to run these notebooks faster with bigger datasets. Watson Studio is IBM's leading cloud solution for data scientists, built by data scientists. With Jupyter notebooks, RStudio, Apache Spark and popular libraries pre-packaged in the cloud, Watson Studio enables data scientists to collaborate on their projects without having to install anything. Join the fast-growing community of Watson Studio users today with a free account at <a href=\"https://cocl.us/ML0101EN_DSX\">Watson Studio</a>\n\n<h3>Thanks for completing this lesson!</h3>\n\n<h4>Author:  <a href=\"https://ca.linkedin.com/in/saeedaghabozorgi\">Saeed Aghabozorgi</a></h4>\n<p><a href=\"https://ca.linkedin.com/in/saeedaghabozorgi\">Saeed Aghabozorgi</a>, PhD is a Data Scientist in IBM with a track record of developing enterprise level applications that substantially increases clients\u2019 ability to turn data into actionable knowledge. He is a researcher in data mining field and expert in developing advanced analytic methods like machine learning and statistical modelling on large datasets.</p>\n\n<hr>\n\n<p>Copyright &copy; 2018 <a href=\"https://cocl.us/DX0108EN_CC\">Cognitive Class</a>. This notebook and its source code are released under the terms of the <a href=\"https://bigdatauniversity.com/mit-license/\">MIT License</a>.</p>"
        },
        {
            "cell_type": "code",
            "execution_count": null,
            "metadata": {},
            "outputs": [],
            "source": ""
        }
    ],
    "metadata": {
        "kernelspec": {
            "display_name": "Python 3.6",
            "language": "python",
            "name": "python3"
        },
        "language_info": {
            "codemirror_mode": {
                "name": "ipython",
                "version": 3
            },
            "file_extension": ".py",
            "mimetype": "text/x-python",
            "name": "python",
            "nbconvert_exporter": "python",
            "pygments_lexer": "ipython3",
            "version": "3.6.9"
        }
    },
    "nbformat": 4,
    "nbformat_minor": 2
}